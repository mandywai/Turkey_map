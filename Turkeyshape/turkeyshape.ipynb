{
  "nbformat": 4,
  "nbformat_minor": 0,
  "metadata": {
    "colab": {
      "provenance": [],
      "authorship_tag": "ABX9TyO8f/QVA6IvzsH5Tu0A+Qel"
    },
    "kernelspec": {
      "name": "python3",
      "display_name": "Python 3"
    },
    "language_info": {
      "name": "python"
    }
  },
  "cells": [
    {
      "cell_type": "code",
      "execution_count": 1,
      "metadata": {
        "colab": {
          "base_uri": "https://localhost:8080/"
        },
        "id": "-C-Wx26Ep1kj",
        "outputId": "b09c0d97-8c6c-45c1-e658-6e7cb3c1b88a"
      },
      "outputs": [
        {
          "output_type": "stream",
          "name": "stdout",
          "text": [
            "Mounted at /content/drive\n"
          ]
        }
      ],
      "source": [
        "from google.colab import drive\n",
        "drive.mount('/content/drive')"
      ]
    },
    {
      "cell_type": "code",
      "source": [
        "!pip install --upgrade geopandas"
      ],
      "metadata": {
        "colab": {
          "base_uri": "https://localhost:8080/"
        },
        "id": "rfUs7IkDrU2F",
        "outputId": "c475a535-58b5-427a-9a77-cf938808473d"
      },
      "execution_count": 7,
      "outputs": [
        {
          "output_type": "stream",
          "name": "stdout",
          "text": [
            "Looking in indexes: https://pypi.org/simple, https://us-python.pkg.dev/colab-wheels/public/simple/\n",
            "Requirement already satisfied: geopandas in /usr/local/lib/python3.8/dist-packages (0.12.2)\n",
            "Requirement already satisfied: pyproj>=2.6.1.post1 in /usr/local/lib/python3.8/dist-packages (from geopandas) (3.4.1)\n",
            "Requirement already satisfied: packaging in /usr/local/lib/python3.8/dist-packages (from geopandas) (23.0)\n",
            "Requirement already satisfied: pandas>=1.0.0 in /usr/local/lib/python3.8/dist-packages (from geopandas) (1.3.5)\n",
            "Requirement already satisfied: fiona>=1.8 in /usr/local/lib/python3.8/dist-packages (from geopandas) (1.9.1)\n",
            "Requirement already satisfied: shapely>=1.7 in /usr/local/lib/python3.8/dist-packages (from geopandas) (2.0.1)\n",
            "Requirement already satisfied: attrs>=19.2.0 in /usr/local/lib/python3.8/dist-packages (from fiona>=1.8->geopandas) (22.2.0)\n",
            "Requirement already satisfied: certifi in /usr/local/lib/python3.8/dist-packages (from fiona>=1.8->geopandas) (2022.12.7)\n",
            "Requirement already satisfied: munch>=2.3.2 in /usr/local/lib/python3.8/dist-packages (from fiona>=1.8->geopandas) (2.5.0)\n",
            "Requirement already satisfied: cligj>=0.5 in /usr/local/lib/python3.8/dist-packages (from fiona>=1.8->geopandas) (0.7.2)\n",
            "Requirement already satisfied: click~=8.0 in /usr/local/lib/python3.8/dist-packages (from fiona>=1.8->geopandas) (8.1.3)\n",
            "Requirement already satisfied: setuptools in /usr/local/lib/python3.8/dist-packages (from fiona>=1.8->geopandas) (57.4.0)\n",
            "Requirement already satisfied: click-plugins>=1.0 in /usr/local/lib/python3.8/dist-packages (from fiona>=1.8->geopandas) (1.1.1)\n",
            "Requirement already satisfied: numpy>=1.17.3 in /usr/local/lib/python3.8/dist-packages (from pandas>=1.0.0->geopandas) (1.21.6)\n",
            "Requirement already satisfied: pytz>=2017.3 in /usr/local/lib/python3.8/dist-packages (from pandas>=1.0.0->geopandas) (2022.7.1)\n",
            "Requirement already satisfied: python-dateutil>=2.7.3 in /usr/local/lib/python3.8/dist-packages (from pandas>=1.0.0->geopandas) (2.8.2)\n",
            "Requirement already satisfied: six in /usr/local/lib/python3.8/dist-packages (from munch>=2.3.2->fiona>=1.8->geopandas) (1.15.0)\n"
          ]
        }
      ]
    },
    {
      "cell_type": "code",
      "source": [
        "## file from https://www.eea.europa.eu/data-and-maps/data/eea-reference-grids-2/gis-files/turkey-shapefile\n",
        "import geopandas as gpd\n",
        "\n",
        "turkeymap = gpd.read_file(\"./sample_data/tr_10km.shp\")\n",
        "\n",
        "print(turkeymap)"
      ],
      "metadata": {
        "colab": {
          "base_uri": "https://localhost:8080/"
        },
        "id": "Irfh5AnBqE0d",
        "outputId": "343ebddc-f785-4326-a354-7af4f2827516"
      },
      "execution_count": 12,
      "outputs": [
        {
          "output_type": "stream",
          "name": "stdout",
          "text": [
            "           CELLCODE  EOFORIGIN  NOFORIGIN  \\\n",
            "0      10kmE563N201    5630000    2010000   \n",
            "1      10kmE563N202    5630000    2020000   \n",
            "2      10kmE563N203    5630000    2030000   \n",
            "3      10kmE563N204    5630000    2040000   \n",
            "4      10kmE563N205    5630000    2050000   \n",
            "...             ...        ...        ...   \n",
            "11518  10kmE732N228    7320000    2280000   \n",
            "11519  10kmE732N229    7320000    2290000   \n",
            "11520  10kmE733N225    7330000    2250000   \n",
            "11521  10kmE733N226    7330000    2260000   \n",
            "11522  10kmE733N227    7330000    2270000   \n",
            "\n",
            "                                                geometry  \n",
            "0      POLYGON ((5630000.000 2010000.000, 5630000.000...  \n",
            "1      POLYGON ((5630000.000 2020000.000, 5630000.000...  \n",
            "2      POLYGON ((5630000.000 2030000.000, 5630000.000...  \n",
            "3      POLYGON ((5630000.000 2040000.000, 5630000.000...  \n",
            "4      POLYGON ((5630000.000 2050000.000, 5630000.000...  \n",
            "...                                                  ...  \n",
            "11518  POLYGON ((7320000.000 2280000.000, 7320000.000...  \n",
            "11519  POLYGON ((7320000.000 2290000.000, 7320000.000...  \n",
            "11520  POLYGON ((7330000.000 2250000.000, 7330000.000...  \n",
            "11521  POLYGON ((7330000.000 2260000.000, 7330000.000...  \n",
            "11522  POLYGON ((7330000.000 2270000.000, 7330000.000...  \n",
            "\n",
            "[11523 rows x 4 columns]\n"
          ]
        }
      ]
    },
    {
      "cell_type": "code",
      "source": [
        "import matplotlib.pyplot as plt\n",
        "\n",
        "fig, ax = plt.subplots(facecolor='#FCF6F5FF')\n",
        "fig.set_size_inches(10,10)\n",
        "\n",
        "turkeymap.plot(ax=ax, color='blue', lw=1)\n",
        "#turkeymap.plot(ax=ax, color='#FCF6F5FF', alpha=10)\n",
        "\n",
        "ax.axis('off')\n",
        "\n",
        "plt.show()"
      ],
      "metadata": {
        "colab": {
          "base_uri": "https://localhost:8080/",
          "height": 416
        },
        "id": "jc7vq6_uq4yI",
        "outputId": "c156bc11-74c4-4819-8f88-9b1e8941b0fb"
      },
      "execution_count": 17,
      "outputs": [
        {
          "output_type": "display_data",
          "data": {
            "text/plain": [
              "<Figure size 720x720 with 1 Axes>"
            ],
            "image/png": "[encoded data removed]"
          },
          "metadata": {}
        }
      ]
    },
    {
      "cell_type": "code",
      "source": [],
      "metadata": {
        "id": "Da7xkZ7NFkwX"
      },
      "execution_count": null,
      "outputs": []
    }
  ]
}